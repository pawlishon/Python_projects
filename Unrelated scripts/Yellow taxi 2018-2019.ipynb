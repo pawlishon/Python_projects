{
 "cells": [
  {
   "cell_type": "code",
   "execution_count": 1,
   "metadata": {},
   "outputs": [],
   "source": [
    "import pandas as pd\n",
    "import matplotlib.pyplot as plt\n",
    "from pandas.plotting import scatter_matrix\n",
    "import numpy as np\n",
    "import seaborn as sns\n",
    "from sklearn.model_selection import train_test_split\n",
    "from sklearn.metrics import mean_squared_error\n",
    "from sklearn.tree import DecisionTreeRegressor\n",
    "from sklearn.linear_model import LinearRegression"
   ]
  },
  {
   "cell_type": "code",
   "execution_count": 2,
   "metadata": {},
   "outputs": [],
   "source": [
    "def get_data():\n",
    "    months=['02','03','04','05','06']\n",
    "    data=pd.read_csv('C:/Users/U6080396/Desktop/Projects/Yellow taxi/yellow_tripdata_2018-01.csv')\n",
    "    for m in months:\n",
    "            update=pd.read_csv('C:/Users/U6080396/Desktop/Projects/Yellow taxi/yellow_tripdata_2018-{}.csv'.format(m))\n",
    "            data=pd.concat([data,update])\n",
    "    return data"
   ]
  },
  {
   "cell_type": "code",
   "execution_count": 3,
   "metadata": {},
   "outputs": [],
   "source": [
    "data=get_data()"
   ]
  },
  {
   "cell_type": "code",
   "execution_count": 4,
   "metadata": {},
   "outputs": [],
   "source": [
    "def iqr_fence(x):\n",
    "    q3=np.percentile(x,75)\n",
    "    q1=np.percentile(x,25)\n",
    "    iqr=q3-q1\n",
    "    upper_fence=q3+3*iqr\n",
    "    lower_fence=q1-3*iqr\n",
    "    return lower_fence,upper_fence"
   ]
  },
  {
   "cell_type": "code",
   "execution_count": 5,
   "metadata": {},
   "outputs": [],
   "source": [
    "#Czyszczenie danych\n",
    "#Usunięcie nic nie wnoszących kolumn\n",
    "data=data.drop(['fare_amount'], axis=1) #Silnie skorelowane z total_amount\n",
    "data=data.drop(['improvement_surcharge'], axis=1) # W znacznej wielkości przypadków przyjmuje wartość 0.3\n",
    "data=data.drop(['tolls_amount'], axis=1) # W 99.7% przypadków opłaty drogowe wynoszą zero\n",
    "data=data.drop(['mta_tax'], axis=1) # W 99.9 % ten podatek wynosi 0.5\n",
    "#Zmiana typu zmiennych czasowych na datetime\n",
    "data['tpep_pickup_datetime']=pd.to_datetime(data['tpep_pickup_datetime'], format='%Y-%m-%d %H:%M:%S')\n",
    "data['tpep_dropoff_datetime']=pd.to_datetime(data['tpep_dropoff_datetime'], format='%Y-%m-%d %H:%M:%S')\n",
    "#Określenie zmiennych kategorycznych\n",
    "data['VendorID']=data['VendorID'].astype('category')\n",
    "data['RatecodeID']=data['RatecodeID'].astype('category')\n",
    "data['store_and_fwd_flag']=data['store_and_fwd_flag'].astype('category')\n",
    "data['payment_type']=data['payment_type'].astype('category')\n",
    "data['PULocationID']=data['PULocationID'].astype('category')\n",
    "data['DOLocationID']=data['DOLocationID'].astype('category')\n",
    "#Usunięcie podejrzanych wartości oraz wartości odstających (odrzuciłem wartości które nie mieszczą sie w powiększonym siedmiokrotnie rozstepie ćwiartkowym)\n",
    "data=data[data[\"RatecodeID\"]!=99]\n",
    "data=data[data[\"VendorID\"]!=4]\n",
    "data=data[data['total_amount']<iqr_fence(data['total_amount'])[1]]\n",
    "data=data[data['total_amount']>0]\n",
    "data=data[data['passenger_count']<iqr_fence(data['passenger_count'])[1]]\n",
    "data=data[data['passenger_count']>0]\n",
    "data=data[data['trip_distance']<iqr_fence(data['trip_distance'])[1]]\n",
    "data=data[data['trip_distance']>-0.0001]\n",
    "data=data[data['tip_amount']<iqr_fence(data['tip_amount'])[1]]\n",
    "data=data[data['tip_amount']>-0.0001]\n",
    "data=data[data['extra']<iqr_fence(data['extra'])[1]]\n",
    "data=data[data['extra']>-0.0001]"
   ]
  },
  {
   "cell_type": "code",
   "execution_count": null,
   "metadata": {},
   "outputs": [],
   "source": [
    "def get_results(model):\n",
    "    history=model.fit(X_train, y_train)\n",
    "    predictions_train=model.predict(X_train)\n",
    "    predictions_test=model.predict(X_test)\n",
    "    mse_train=mean_squared_error(predictions_train,y_train)\n",
    "    mse_test=mean_squared_error(predictions_test,y_test)\n",
    "    print('Train MSE:',mse_train,', Test MSE:',mse_test)"
   ]
  },
  {
   "cell_type": "code",
   "execution_count": 4,
   "metadata": {},
   "outputs": [
    {
     "data": {
      "text/html": [
       "<div>\n",
       "<style scoped>\n",
       "    .dataframe tbody tr th:only-of-type {\n",
       "        vertical-align: middle;\n",
       "    }\n",
       "\n",
       "    .dataframe tbody tr th {\n",
       "        vertical-align: top;\n",
       "    }\n",
       "\n",
       "    .dataframe thead th {\n",
       "        text-align: right;\n",
       "    }\n",
       "</style>\n",
       "<table border=\"1\" class=\"dataframe\">\n",
       "  <thead>\n",
       "    <tr style=\"text-align: right;\">\n",
       "      <th></th>\n",
       "      <th>VendorID</th>\n",
       "      <th>tpep_pickup_datetime</th>\n",
       "      <th>tpep_dropoff_datetime</th>\n",
       "      <th>passenger_count</th>\n",
       "      <th>trip_distance</th>\n",
       "      <th>RatecodeID</th>\n",
       "      <th>store_and_fwd_flag</th>\n",
       "      <th>PULocationID</th>\n",
       "      <th>DOLocationID</th>\n",
       "      <th>payment_type</th>\n",
       "      <th>fare_amount</th>\n",
       "      <th>extra</th>\n",
       "      <th>mta_tax</th>\n",
       "      <th>tip_amount</th>\n",
       "      <th>tolls_amount</th>\n",
       "      <th>improvement_surcharge</th>\n",
       "      <th>total_amount</th>\n",
       "    </tr>\n",
       "  </thead>\n",
       "  <tbody>\n",
       "    <tr>\n",
       "      <th>0</th>\n",
       "      <td>1</td>\n",
       "      <td>2018-01-01 00:21:05</td>\n",
       "      <td>2018-01-01 00:24:23</td>\n",
       "      <td>1</td>\n",
       "      <td>0.5</td>\n",
       "      <td>1</td>\n",
       "      <td>N</td>\n",
       "      <td>41</td>\n",
       "      <td>24</td>\n",
       "      <td>2</td>\n",
       "      <td>4.5</td>\n",
       "      <td>0.5</td>\n",
       "      <td>0.5</td>\n",
       "      <td>0.00</td>\n",
       "      <td>0.0</td>\n",
       "      <td>0.3</td>\n",
       "      <td>5.80</td>\n",
       "    </tr>\n",
       "    <tr>\n",
       "      <th>1</th>\n",
       "      <td>1</td>\n",
       "      <td>2018-01-01 00:44:55</td>\n",
       "      <td>2018-01-01 01:03:05</td>\n",
       "      <td>1</td>\n",
       "      <td>2.7</td>\n",
       "      <td>1</td>\n",
       "      <td>N</td>\n",
       "      <td>239</td>\n",
       "      <td>140</td>\n",
       "      <td>2</td>\n",
       "      <td>14.0</td>\n",
       "      <td>0.5</td>\n",
       "      <td>0.5</td>\n",
       "      <td>0.00</td>\n",
       "      <td>0.0</td>\n",
       "      <td>0.3</td>\n",
       "      <td>15.30</td>\n",
       "    </tr>\n",
       "    <tr>\n",
       "      <th>2</th>\n",
       "      <td>1</td>\n",
       "      <td>2018-01-01 00:08:26</td>\n",
       "      <td>2018-01-01 00:14:21</td>\n",
       "      <td>2</td>\n",
       "      <td>0.8</td>\n",
       "      <td>1</td>\n",
       "      <td>N</td>\n",
       "      <td>262</td>\n",
       "      <td>141</td>\n",
       "      <td>1</td>\n",
       "      <td>6.0</td>\n",
       "      <td>0.5</td>\n",
       "      <td>0.5</td>\n",
       "      <td>1.00</td>\n",
       "      <td>0.0</td>\n",
       "      <td>0.3</td>\n",
       "      <td>8.30</td>\n",
       "    </tr>\n",
       "    <tr>\n",
       "      <th>3</th>\n",
       "      <td>1</td>\n",
       "      <td>2018-01-01 00:20:22</td>\n",
       "      <td>2018-01-01 00:52:51</td>\n",
       "      <td>1</td>\n",
       "      <td>10.2</td>\n",
       "      <td>1</td>\n",
       "      <td>N</td>\n",
       "      <td>140</td>\n",
       "      <td>257</td>\n",
       "      <td>2</td>\n",
       "      <td>33.5</td>\n",
       "      <td>0.5</td>\n",
       "      <td>0.5</td>\n",
       "      <td>0.00</td>\n",
       "      <td>0.0</td>\n",
       "      <td>0.3</td>\n",
       "      <td>34.80</td>\n",
       "    </tr>\n",
       "    <tr>\n",
       "      <th>4</th>\n",
       "      <td>1</td>\n",
       "      <td>2018-01-01 00:09:18</td>\n",
       "      <td>2018-01-01 00:27:06</td>\n",
       "      <td>2</td>\n",
       "      <td>2.5</td>\n",
       "      <td>1</td>\n",
       "      <td>N</td>\n",
       "      <td>246</td>\n",
       "      <td>239</td>\n",
       "      <td>1</td>\n",
       "      <td>12.5</td>\n",
       "      <td>0.5</td>\n",
       "      <td>0.5</td>\n",
       "      <td>2.75</td>\n",
       "      <td>0.0</td>\n",
       "      <td>0.3</td>\n",
       "      <td>16.55</td>\n",
       "    </tr>\n",
       "  </tbody>\n",
       "</table>\n",
       "</div>"
      ],
      "text/plain": [
       "   VendorID tpep_pickup_datetime tpep_dropoff_datetime  passenger_count  \\\n",
       "0         1  2018-01-01 00:21:05   2018-01-01 00:24:23                1   \n",
       "1         1  2018-01-01 00:44:55   2018-01-01 01:03:05                1   \n",
       "2         1  2018-01-01 00:08:26   2018-01-01 00:14:21                2   \n",
       "3         1  2018-01-01 00:20:22   2018-01-01 00:52:51                1   \n",
       "4         1  2018-01-01 00:09:18   2018-01-01 00:27:06                2   \n",
       "\n",
       "   trip_distance  RatecodeID store_and_fwd_flag  PULocationID  DOLocationID  \\\n",
       "0            0.5           1                  N            41            24   \n",
       "1            2.7           1                  N           239           140   \n",
       "2            0.8           1                  N           262           141   \n",
       "3           10.2           1                  N           140           257   \n",
       "4            2.5           1                  N           246           239   \n",
       "\n",
       "   payment_type  fare_amount  extra  mta_tax  tip_amount  tolls_amount  \\\n",
       "0             2          4.5    0.5      0.5        0.00           0.0   \n",
       "1             2         14.0    0.5      0.5        0.00           0.0   \n",
       "2             1          6.0    0.5      0.5        1.00           0.0   \n",
       "3             2         33.5    0.5      0.5        0.00           0.0   \n",
       "4             1         12.5    0.5      0.5        2.75           0.0   \n",
       "\n",
       "   improvement_surcharge  total_amount  \n",
       "0                    0.3          5.80  \n",
       "1                    0.3         15.30  \n",
       "2                    0.3          8.30  \n",
       "3                    0.3         34.80  \n",
       "4                    0.3         16.55  "
      ]
     },
     "execution_count": 4,
     "metadata": {},
     "output_type": "execute_result"
    }
   ],
   "source": [
    "data.head()"
   ]
  },
  {
   "cell_type": "code",
   "execution_count": 5,
   "metadata": {},
   "outputs": [
    {
     "data": {
      "text/plain": [
       "(53925735, 17)"
      ]
     },
     "execution_count": 5,
     "metadata": {},
     "output_type": "execute_result"
    }
   ],
   "source": [
    "data.shape"
   ]
  },
  {
   "cell_type": "code",
   "execution_count": 46,
   "metadata": {},
   "outputs": [
    {
     "name": "stdout",
     "output_type": "stream",
     "text": [
      "<class 'pandas.core.frame.DataFrame'>\n",
      "Int64Index: 45047369 entries, 0 to 8713829\n",
      "Data columns (total 13 columns):\n",
      "VendorID                 category\n",
      "tpep_pickup_datetime     datetime64[ns]\n",
      "tpep_dropoff_datetime    datetime64[ns]\n",
      "passenger_count          int64\n",
      "trip_distance            float64\n",
      "RatecodeID               category\n",
      "store_and_fwd_flag       category\n",
      "PULocationID             category\n",
      "DOLocationID             category\n",
      "payment_type             category\n",
      "extra                    float64\n",
      "tip_amount               float64\n",
      "total_amount             float64\n",
      "dtypes: category(6), datetime64[ns](2), float64(4), int64(1)\n",
      "memory usage: 3.0 GB\n"
     ]
    }
   ],
   "source": [
    "data.info()"
   ]
  },
  {
   "cell_type": "code",
   "execution_count": 45,
   "metadata": {},
   "outputs": [
    {
     "data": {
      "text/html": [
       "<div>\n",
       "<style scoped>\n",
       "    .dataframe tbody tr th:only-of-type {\n",
       "        vertical-align: middle;\n",
       "    }\n",
       "\n",
       "    .dataframe tbody tr th {\n",
       "        vertical-align: top;\n",
       "    }\n",
       "\n",
       "    .dataframe thead th {\n",
       "        text-align: right;\n",
       "    }\n",
       "</style>\n",
       "<table border=\"1\" class=\"dataframe\">\n",
       "  <thead>\n",
       "    <tr style=\"text-align: right;\">\n",
       "      <th></th>\n",
       "      <th>passenger_count</th>\n",
       "      <th>trip_distance</th>\n",
       "      <th>extra</th>\n",
       "      <th>tip_amount</th>\n",
       "      <th>total_amount</th>\n",
       "    </tr>\n",
       "  </thead>\n",
       "  <tbody>\n",
       "    <tr>\n",
       "      <th>passenger_count</th>\n",
       "      <td>1.000000</td>\n",
       "      <td>0.017013</td>\n",
       "      <td>0.020523</td>\n",
       "      <td>-0.015451</td>\n",
       "      <td>0.013793</td>\n",
       "    </tr>\n",
       "    <tr>\n",
       "      <th>trip_distance</th>\n",
       "      <td>0.017013</td>\n",
       "      <td>1.000000</td>\n",
       "      <td>0.041810</td>\n",
       "      <td>0.434477</td>\n",
       "      <td>0.893086</td>\n",
       "    </tr>\n",
       "    <tr>\n",
       "      <th>extra</th>\n",
       "      <td>0.020523</td>\n",
       "      <td>0.041810</td>\n",
       "      <td>1.000000</td>\n",
       "      <td>0.057818</td>\n",
       "      <td>0.084568</td>\n",
       "    </tr>\n",
       "    <tr>\n",
       "      <th>tip_amount</th>\n",
       "      <td>-0.015451</td>\n",
       "      <td>0.434477</td>\n",
       "      <td>0.057818</td>\n",
       "      <td>1.000000</td>\n",
       "      <td>0.638705</td>\n",
       "    </tr>\n",
       "    <tr>\n",
       "      <th>total_amount</th>\n",
       "      <td>0.013793</td>\n",
       "      <td>0.893086</td>\n",
       "      <td>0.084568</td>\n",
       "      <td>0.638705</td>\n",
       "      <td>1.000000</td>\n",
       "    </tr>\n",
       "  </tbody>\n",
       "</table>\n",
       "</div>"
      ],
      "text/plain": [
       "                 passenger_count  trip_distance     extra  tip_amount  \\\n",
       "passenger_count         1.000000       0.017013  0.020523   -0.015451   \n",
       "trip_distance           0.017013       1.000000  0.041810    0.434477   \n",
       "extra                   0.020523       0.041810  1.000000    0.057818   \n",
       "tip_amount             -0.015451       0.434477  0.057818    1.000000   \n",
       "total_amount            0.013793       0.893086  0.084568    0.638705   \n",
       "\n",
       "                 total_amount  \n",
       "passenger_count      0.013793  \n",
       "trip_distance        0.893086  \n",
       "extra                0.084568  \n",
       "tip_amount           0.638705  \n",
       "total_amount         1.000000  "
      ]
     },
     "execution_count": 45,
     "metadata": {},
     "output_type": "execute_result"
    }
   ],
   "source": [
    "data.corr()"
   ]
  },
  {
   "cell_type": "code",
   "execution_count": 21,
   "metadata": {},
   "outputs": [
    {
     "data": {
      "text/plain": [
       "VendorID                 0\n",
       "tpep_pickup_datetime     0\n",
       "tpep_dropoff_datetime    0\n",
       "passenger_count          0\n",
       "trip_distance            0\n",
       "RatecodeID               0\n",
       "store_and_fwd_flag       0\n",
       "PULocationID             0\n",
       "DOLocationID             0\n",
       "payment_type             0\n",
       "extra                    0\n",
       "mta_tax                  0\n",
       "tip_amount               0\n",
       "tolls_amount             0\n",
       "total_amount             0\n",
       "dtype: int64"
      ]
     },
     "execution_count": 21,
     "metadata": {},
     "output_type": "execute_result"
    }
   ],
   "source": [
    "#Nie ma braków danych\n",
    "data.isnull().sum()"
   ]
  },
  {
   "cell_type": "code",
   "execution_count": 10,
   "metadata": {},
   "outputs": [
    {
     "data": {
      "text/html": [
       "<div>\n",
       "<style scoped>\n",
       "    .dataframe tbody tr th:only-of-type {\n",
       "        vertical-align: middle;\n",
       "    }\n",
       "\n",
       "    .dataframe tbody tr th {\n",
       "        vertical-align: top;\n",
       "    }\n",
       "\n",
       "    .dataframe thead th {\n",
       "        text-align: right;\n",
       "    }\n",
       "</style>\n",
       "<table border=\"1\" class=\"dataframe\">\n",
       "  <thead>\n",
       "    <tr style=\"text-align: right;\">\n",
       "      <th></th>\n",
       "      <th>passenger_count</th>\n",
       "      <th>trip_distance</th>\n",
       "      <th>extra</th>\n",
       "      <th>mta_tax</th>\n",
       "      <th>tip_amount</th>\n",
       "      <th>tolls_amount</th>\n",
       "      <th>total_amount</th>\n",
       "    </tr>\n",
       "  </thead>\n",
       "  <tbody>\n",
       "    <tr>\n",
       "      <th>count</th>\n",
       "      <td>5.392279e+07</td>\n",
       "      <td>5.392279e+07</td>\n",
       "      <td>5.392279e+07</td>\n",
       "      <td>5.392279e+07</td>\n",
       "      <td>5.392279e+07</td>\n",
       "      <td>5.392279e+07</td>\n",
       "      <td>5.392279e+07</td>\n",
       "    </tr>\n",
       "    <tr>\n",
       "      <th>mean</th>\n",
       "      <td>1.599911e+00</td>\n",
       "      <td>2.900877e+00</td>\n",
       "      <td>3.320255e-01</td>\n",
       "      <td>4.973464e-01</td>\n",
       "      <td>1.866823e+00</td>\n",
       "      <td>3.351460e-01</td>\n",
       "      <td>1.613301e+01</td>\n",
       "    </tr>\n",
       "    <tr>\n",
       "      <th>std</th>\n",
       "      <td>1.248154e+00</td>\n",
       "      <td>2.607482e+01</td>\n",
       "      <td>4.619663e-01</td>\n",
       "      <td>4.352552e-02</td>\n",
       "      <td>2.570324e+00</td>\n",
       "      <td>1.798356e+00</td>\n",
       "      <td>7.132924e+01</td>\n",
       "    </tr>\n",
       "    <tr>\n",
       "      <th>min</th>\n",
       "      <td>0.000000e+00</td>\n",
       "      <td>0.000000e+00</td>\n",
       "      <td>-6.000000e+01</td>\n",
       "      <td>-5.000000e-01</td>\n",
       "      <td>-3.224200e+02</td>\n",
       "      <td>-5.250000e+01</td>\n",
       "      <td>-4.858000e+02</td>\n",
       "    </tr>\n",
       "    <tr>\n",
       "      <th>25%</th>\n",
       "      <td>1.000000e+00</td>\n",
       "      <td>9.600000e-01</td>\n",
       "      <td>0.000000e+00</td>\n",
       "      <td>5.000000e-01</td>\n",
       "      <td>0.000000e+00</td>\n",
       "      <td>0.000000e+00</td>\n",
       "      <td>8.300000e+00</td>\n",
       "    </tr>\n",
       "    <tr>\n",
       "      <th>50%</th>\n",
       "      <td>1.000000e+00</td>\n",
       "      <td>1.600000e+00</td>\n",
       "      <td>0.000000e+00</td>\n",
       "      <td>5.000000e-01</td>\n",
       "      <td>1.400000e+00</td>\n",
       "      <td>0.000000e+00</td>\n",
       "      <td>1.176000e+01</td>\n",
       "    </tr>\n",
       "    <tr>\n",
       "      <th>75%</th>\n",
       "      <td>2.000000e+00</td>\n",
       "      <td>3.000000e+00</td>\n",
       "      <td>5.000000e-01</td>\n",
       "      <td>5.000000e-01</td>\n",
       "      <td>2.450000e+00</td>\n",
       "      <td>0.000000e+00</td>\n",
       "      <td>1.730000e+01</td>\n",
       "    </tr>\n",
       "    <tr>\n",
       "      <th>max</th>\n",
       "      <td>1.920000e+02</td>\n",
       "      <td>1.894838e+05</td>\n",
       "      <td>9.664000e+01</td>\n",
       "      <td>6.080000e+01</td>\n",
       "      <td>4.960000e+02</td>\n",
       "      <td>1.650000e+03</td>\n",
       "      <td>3.491168e+05</td>\n",
       "    </tr>\n",
       "  </tbody>\n",
       "</table>\n",
       "</div>"
      ],
      "text/plain": [
       "       passenger_count  trip_distance         extra       mta_tax  \\\n",
       "count     5.392279e+07   5.392279e+07  5.392279e+07  5.392279e+07   \n",
       "mean      1.599911e+00   2.900877e+00  3.320255e-01  4.973464e-01   \n",
       "std       1.248154e+00   2.607482e+01  4.619663e-01  4.352552e-02   \n",
       "min       0.000000e+00   0.000000e+00 -6.000000e+01 -5.000000e-01   \n",
       "25%       1.000000e+00   9.600000e-01  0.000000e+00  5.000000e-01   \n",
       "50%       1.000000e+00   1.600000e+00  0.000000e+00  5.000000e-01   \n",
       "75%       2.000000e+00   3.000000e+00  5.000000e-01  5.000000e-01   \n",
       "max       1.920000e+02   1.894838e+05  9.664000e+01  6.080000e+01   \n",
       "\n",
       "         tip_amount  tolls_amount  total_amount  \n",
       "count  5.392279e+07  5.392279e+07  5.392279e+07  \n",
       "mean   1.866823e+00  3.351460e-01  1.613301e+01  \n",
       "std    2.570324e+00  1.798356e+00  7.132924e+01  \n",
       "min   -3.224200e+02 -5.250000e+01 -4.858000e+02  \n",
       "25%    0.000000e+00  0.000000e+00  8.300000e+00  \n",
       "50%    1.400000e+00  0.000000e+00  1.176000e+01  \n",
       "75%    2.450000e+00  0.000000e+00  1.730000e+01  \n",
       "max    4.960000e+02  1.650000e+03  3.491168e+05  "
      ]
     },
     "execution_count": 10,
     "metadata": {},
     "output_type": "execute_result"
    }
   ],
   "source": [
    "data.describe()"
   ]
  },
  {
   "cell_type": "code",
   "execution_count": 9,
   "metadata": {},
   "outputs": [
    {
     "data": {
      "image/png": "[encoded data removed]",
      "text/plain": [
       "<Figure size 1440x1080 with 6 Axes>"
      ]
     },
     "metadata": {},
     "output_type": "display_data"
    }
   ],
   "source": [
    "data.hist(bins=30,figsize=(20,15))\n",
    "plt.show()"
   ]
  },
  {
   "cell_type": "code",
   "execution_count": 7,
   "metadata": {},
   "outputs": [],
   "source": [
    "sample=data.sample(frac=0.001)"
   ]
  },
  {
   "cell_type": "code",
   "execution_count": 7,
   "metadata": {},
   "outputs": [
    {
     "data": {
      "text/plain": [
       "(45047, 13)"
      ]
     },
     "execution_count": 7,
     "metadata": {},
     "output_type": "execute_result"
    }
   ],
   "source": [
    "sample.shape"
   ]
  },
  {
   "cell_type": "code",
   "execution_count": 8,
   "metadata": {},
   "outputs": [
    {
     "name": "stderr",
     "output_type": "stream",
     "text": [
      "C:\\Users\\U6080396\\AppData\\Local\\Continuum\\anaconda3\\lib\\site-packages\\matplotlib\\axes\\_axes.py:6462: UserWarning: The 'normed' kwarg is deprecated, and has been replaced by the 'density' kwarg.\n",
      "  warnings.warn(\"The 'normed' kwarg is deprecated, and has been \"\n",
      "C:\\Users\\U6080396\\AppData\\Local\\Continuum\\anaconda3\\lib\\site-packages\\matplotlib\\axes\\_axes.py:6462: UserWarning: The 'normed' kwarg is deprecated, and has been replaced by the 'density' kwarg.\n",
      "  warnings.warn(\"The 'normed' kwarg is deprecated, and has been \"\n"
     ]
    },
    {
     "data": {
      "text/plain": [
       "<seaborn.axisgrid.JointGrid at 0x286239480b8>"
      ]
     },
     "execution_count": 8,
     "metadata": {},
     "output_type": "execute_result"
    },
    {
     "data": {
      "image/png": "[encoded data removed]",
      "text/plain": [
       "<Figure size 432x432 with 3 Axes>"
      ]
     },
     "metadata": {},
     "output_type": "display_data"
    }
   ],
   "source": [
    "sns.jointplot('total_amount','tip_amount', data=sample)"
   ]
  },
  {
   "cell_type": "code",
   "execution_count": 9,
   "metadata": {},
   "outputs": [
    {
     "name": "stderr",
     "output_type": "stream",
     "text": [
      "C:\\Users\\U6080396\\AppData\\Local\\Continuum\\anaconda3\\lib\\site-packages\\matplotlib\\axes\\_axes.py:6462: UserWarning: The 'normed' kwarg is deprecated, and has been replaced by the 'density' kwarg.\n",
      "  warnings.warn(\"The 'normed' kwarg is deprecated, and has been \"\n",
      "C:\\Users\\U6080396\\AppData\\Local\\Continuum\\anaconda3\\lib\\site-packages\\matplotlib\\axes\\_axes.py:6462: UserWarning: The 'normed' kwarg is deprecated, and has been replaced by the 'density' kwarg.\n",
      "  warnings.warn(\"The 'normed' kwarg is deprecated, and has been \"\n"
     ]
    },
    {
     "data": {
      "text/plain": [
       "<seaborn.axisgrid.JointGrid at 0x285f3a8fe10>"
      ]
     },
     "execution_count": 9,
     "metadata": {},
     "output_type": "execute_result"
    },
    {
     "data": {
      "image/png": "[encoded data removed]",
      "text/plain": [
       "<Figure size 432x432 with 3 Axes>"
      ]
     },
     "metadata": {},
     "output_type": "display_data"
    }
   ],
   "source": [
    "sns.jointplot('total_amount','trip_distance', data=sample)"
   ]
  },
  {
   "cell_type": "code",
   "execution_count": 8,
   "metadata": {},
   "outputs": [],
   "source": [
    "#Podział na X,Y\n",
    "sample['tpep_pickup_datetime']=pd.to_timedelta(sample['tpep_pickup_datetime']).dt.total_seconds()\n",
    "sample['tpep_dropoff_datetime']=pd.to_timedelta(sample['tpep_dropoff_datetime']).dt.total_seconds()\n",
    "sample['store_and_fwd_flag']=sample['store_and_fwd_flag'].map(dict(Y=1, N=0))\n",
    "Y=sample['total_amount']\n",
    "X=sample.loc[:,data.columns!='total_amount']\n"
   ]
  },
  {
   "cell_type": "code",
   "execution_count": 9,
   "metadata": {},
   "outputs": [
    {
     "data": {
      "text/plain": [
       "((45047, 12), (45047,))"
      ]
     },
     "execution_count": 9,
     "metadata": {},
     "output_type": "execute_result"
    }
   ],
   "source": [
    "X.shape,Y.shape"
   ]
  },
  {
   "cell_type": "code",
   "execution_count": 10,
   "metadata": {},
   "outputs": [],
   "source": [
    "#Podział na zbiór testowy i treningowy\n",
    "X_train, X_test, y_train, y_test = train_test_split(X,Y,test_size=0.3)"
   ]
  },
  {
   "cell_type": "code",
   "execution_count": 12,
   "metadata": {},
   "outputs": [
    {
     "name": "stdout",
     "output_type": "stream",
     "text": [
      "Train MSE: 4.19210169493504 , Test MSE: 4.302183841941481\n"
     ]
    }
   ],
   "source": [
    "lr=LinearRegression()\n",
    "get_results(lr)"
   ]
  },
  {
   "cell_type": "code",
   "execution_count": 36,
   "metadata": {},
   "outputs": [],
   "source": [
    "importance=lr.coef_"
   ]
  },
  {
   "cell_type": "code",
   "execution_count": 44,
   "metadata": {},
   "outputs": [
    {
     "data": {
      "image/png": "[encoded data removed]",
      "text/plain": [
       "<Figure size 1440x720 with 1 Axes>"
      ]
     },
     "metadata": {},
     "output_type": "display_data"
    }
   ],
   "source": [
    "#Wpływ zmiennych na wynik regresji\n",
    "plt.figure(figsize=(20,10))\n",
    "plt.bar(X.columns, importance)\n",
    "plt.show()"
   ]
  },
  {
   "cell_type": "code",
   "execution_count": 30,
   "metadata": {},
   "outputs": [
    {
     "name": "stdout",
     "output_type": "stream",
     "text": [
      "Train MSE: 3.2790368222301995 , Test MSE: 3.482800208280535\n"
     ]
    }
   ],
   "source": [
    "#Drzewo losowe\n",
    "tree=DecisionTreeRegressor(max_depth=7)\n",
    "get_results(tree)"
   ]
  },
  {
   "cell_type": "markdown",
   "metadata": {},
   "source": [
    "Wnioski:\n",
    "Nie dałem rady przeanalizować całego zbioru danych. Do tego niezbędna jest znajomość pysparka , a z nim niestety jeszcze nie miałem styczności.\n",
    "\n",
    "Po redukcji zbioru danych dokonałem analizy, z której wysnułem następujące wnioski. Dane były dość mocno zanieczyszczone, co prawda nie znalazłem braków danych, jednakże wystąpiły wartości odstające w całkiej sporej ilości. W celu eliminacji ich z mojego zbioru zbudowałem funkcję, która odrzuca wartość, jeśli nie znajduje sie ona w siedmiokrotnym odstępię międzykwartalnym. Usunąłem też wartości nie mające sensu (typu 0 pasażerów lub ujemny napiwek).\n",
    "\n",
    "Po tych zabiegach dało się wreszcie sprawdzić rozkłady zmiennych z tego zbioru za pomocą histogramu. Na pewno nie pochodzą z rozkładu normalnego, możliwy jest rozkład lognormalny. Najbardziej podobne histogramy miały zmienne total_amount oraz trip_distance. Istnieje również silna korelacja pomiędzy tymi zmiennymi. Z wykresu tych zmiennych widać wyraźnie, że jest wyznaczona granica, poniżej której się nie zapłaci przy danym dystansie.\n",
    "\n",
    "Przeanalizowałem również kilka modeli podchodząc do tego zagadnienia jako problem regresji ze zmienną celu total_amount. Okazało się, że dość łatwo stworzyć model dobrze przybliżający tą wartość. Nawet regresja liniowa dała zadowalające wyniki. Z analizy jej współczynników doszedłem do wniosku, że oprócz dystansu, na cenę końcową maja znaczący wpływ zmienne tip_amount, extra , payment_type oraz RatecodeID. Zaskakujące dla mnie było , że czas początku i zakończenia kursu nie miał znaczącego wpływu na total_amount. W Polsce zazwyczaj jest duża różnica między taryfą dzienną i nocną.\n",
    "\n",
    "Oczywiście regresja liniowa nie jest najlepszym modelem do tego zagadnienia. Regresor drzewa losowego dał mi lepsze wyniki, z drugiej strony sieci neuronowe nie spisały się najlepiej."
   ]
  }
 ],
 "metadata": {
  "kernelspec": {
   "display_name": "Python 3",
   "language": "python",
   "name": "python3"
  },
  "language_info": {
   "codemirror_mode": {
    "name": "ipython",
    "version": 3
   },
   "file_extension": ".py",
   "mimetype": "text/x-python",
   "name": "python",
   "nbconvert_exporter": "python",
   "pygments_lexer": "ipython3",
   "version": "3.6.5"
  }
 },
 "nbformat": 4,
 "nbformat_minor": 2
}
