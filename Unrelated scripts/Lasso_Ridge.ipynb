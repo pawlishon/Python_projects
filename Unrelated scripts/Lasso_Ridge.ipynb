{
 "cells": [
  {
   "cell_type": "code",
   "execution_count": 2,
   "metadata": {},
   "outputs": [
    {
     "data": {
      "text/plain": [
       "'C:\\\\Users\\\\U6080396'"
      ]
     },
     "execution_count": 2,
     "metadata": {},
     "output_type": "execute_result"
    }
   ],
   "source": [
    "import os\n",
    "os.getcwd()"
   ]
  },
  {
   "cell_type": "code",
   "execution_count": 3,
   "metadata": {},
   "outputs": [],
   "source": [
    "import numpy\n",
    "filename=\"CoEPrA.csv\"\n",
    "raw_data=open(filename,'rt')\n",
    "data=numpy.loadtxt(raw_data,delimiter=\",\")"
   ]
  },
  {
   "cell_type": "code",
   "execution_count": 4,
   "metadata": {},
   "outputs": [
    {
     "data": {
      "text/plain": [
       "(89, 5788)"
      ]
     },
     "execution_count": 4,
     "metadata": {},
     "output_type": "execute_result"
    }
   ],
   "source": [
    "data.shape"
   ]
  },
  {
   "cell_type": "code",
   "execution_count": 12,
   "metadata": {},
   "outputs": [
    {
     "data": {
      "text/plain": [
       "(18,)"
      ]
     },
     "execution_count": 12,
     "metadata": {},
     "output_type": "execute_result"
    }
   ],
   "source": [
    "X=data[:,:5787]\n",
    "Y=data[:,5787]\n",
    "\n",
    "from sklearn.model_selection import train_test_split\n",
    "X_train, X_test, Y_train, Y_test=train_test_split(X,Y, test_size=0.2, random_state=0)\n",
    "Y_test.shape"
   ]
  },
  {
   "cell_type": "code",
   "execution_count": 23,
   "metadata": {},
   "outputs": [],
   "source": [
    "import matplotlib.pyplot as plt\n",
    "import numpy as np\n",
    "from sklearn import linear_model\n",
    "from sklearn.metrics import mean_squared_error\n",
    "from sklearn.model_selection import cross_val_score"
   ]
  },
  {
   "cell_type": "code",
   "execution_count": 26,
   "metadata": {},
   "outputs": [
    {
     "data": {
      "text/plain": [
       "LinearRegression(copy_X=True, fit_intercept=True, n_jobs=None, normalize=False)"
      ]
     },
     "execution_count": 26,
     "metadata": {},
     "output_type": "execute_result"
    }
   ],
   "source": [
    "LinearRegr=linear_model.LinearRegression()\n",
    "LinearRegr.fit(X_train,Y_train)"
   ]
  },
  {
   "cell_type": "code",
   "execution_count": 19,
   "metadata": {},
   "outputs": [],
   "source": [
    "predictions=LinearRegr.predict(X_train)"
   ]
  },
  {
   "cell_type": "code",
   "execution_count": 20,
   "metadata": {},
   "outputs": [
    {
     "name": "stdout",
     "output_type": "stream",
     "text": [
      "0.006776305247293394\n"
     ]
    }
   ],
   "source": [
    "print(mean_squared_error(Y_train,predictions)) # overfitting"
   ]
  },
  {
   "cell_type": "code",
   "execution_count": 29,
   "metadata": {},
   "outputs": [
    {
     "name": "stdout",
     "output_type": "stream",
     "text": [
      "[-2.77162774e+15 -1.63780071e+23 -9.01357349e+17 -1.89420654e+17\n",
      " -1.53857191e+16]\n",
      "-3.2756236040128235e+22\n"
     ]
    }
   ],
   "source": [
    "# K-fold cross validation\n",
    "score=cross_val_score(LinearRegr, X_train, Y_train, scoring='neg_mean_squared_error', cv=5)\n",
    "print(score)\n",
    "print(np.mean(score))"
   ]
  },
  {
   "cell_type": "code",
   "execution_count": 34,
   "metadata": {},
   "outputs": [
    {
     "name": "stdout",
     "output_type": "stream",
     "text": [
      "1.1313658797668658e+24\n"
     ]
    }
   ],
   "source": [
    "pred_test=LinearRegr.predict(X_test)\n",
    "print(mean_squared_error(Y_test,pred_test))"
   ]
  },
  {
   "cell_type": "code",
   "execution_count": 63,
   "metadata": {},
   "outputs": [
    {
     "data": {
      "text/plain": [
       "Lasso(alpha=0.3, copy_X=True, fit_intercept=True, max_iter=1000000,\n",
       "      normalize=False, positive=False, precompute=False, random_state=None,\n",
       "      selection='cyclic', tol=0.0001, warm_start=False)"
      ]
     },
     "execution_count": 63,
     "metadata": {},
     "output_type": "execute_result"
    }
   ],
   "source": [
    "#Lasso (cost function includes penalty for features propotional to sum of absolute value of features instead of sum of its squares)\n",
    "lasso=linear_model.Lasso(alpha=0.3, max_iter=1000000)\n",
    "lasso.fit(X_train,Y_train)"
   ]
  },
  {
   "cell_type": "code",
   "execution_count": 64,
   "metadata": {},
   "outputs": [],
   "source": [
    "pred_train_lasso=lasso.predict(X_train)\n",
    "pred_test_lasso=lasso.predict(X_test)"
   ]
  },
  {
   "cell_type": "code",
   "execution_count": 65,
   "metadata": {},
   "outputs": [
    {
     "name": "stdout",
     "output_type": "stream",
     "text": [
      "Lasso MSE train: 0.030990182372048328\n",
      "Lasso MSE test: 0.5542167080273583\n"
     ]
    }
   ],
   "source": [
    "print('Lasso MSE train:', mean_squared_error(Y_train,pred_train_lasso))\n",
    "print('Lasso MSE test:', mean_squared_error(Y_test,pred_test_lasso))"
   ]
  },
  {
   "cell_type": "code",
   "execution_count": 100,
   "metadata": {},
   "outputs": [
    {
     "name": "stdout",
     "output_type": "stream",
     "text": [
      "-0.7746651811184468\n"
     ]
    }
   ],
   "source": [
    "score_lasso=cross_val_score(lasso, X_train, Y_train, scoring='neg_mean_squared_error', cv=5)\n",
    "print(np.mean(score_lasso)) "
   ]
  },
  {
   "cell_type": "code",
   "execution_count": 45,
   "metadata": {},
   "outputs": [
    {
     "name": "stdout",
     "output_type": "stream",
     "text": [
      "[-0.  0. -0. ... -0. -0.  0.]\n",
      "(array([ 117,  136,  445,  446,  715,  787, 1088, 1094, 1236, 1422, 1430,\n",
      "       1732, 1737, 1874, 1938, 2247, 2380, 2581, 2708, 3023, 3160, 3224,\n",
      "       3351, 3533, 3666, 3994, 4176, 4221, 4303, 4309, 4510, 4511, 4637,\n",
      "       4819, 4947, 4952, 5216, 5462, 5589, 5735, 5737], dtype=int64),)\n"
     ]
    }
   ],
   "source": [
    "print(lasso.coef_)\n",
    "print(np.nonzero(lasso.coef_))"
   ]
  },
  {
   "cell_type": "code",
   "execution_count": 82,
   "metadata": {},
   "outputs": [
    {
     "data": {
      "text/plain": [
       "(18, 49)"
      ]
     },
     "execution_count": 82,
     "metadata": {},
     "output_type": "execute_result"
    }
   ],
   "source": [
    "non_zero_coef=np.nonzero(lasso.coef_)\n",
    "X_train_filtered=X_train[:,non_zero_coef[0]]\n",
    "\n",
    "X_test_filtered=X_test[:,non_zero_coef[0]]\n",
    "X_train_filtered.shape #49 features that impact result\n",
    "X_test_filtered.shape"
   ]
  },
  {
   "cell_type": "code",
   "execution_count": 72,
   "metadata": {},
   "outputs": [
    {
     "data": {
      "text/plain": [
       "Ridge(alpha=0.8, copy_X=True, fit_intercept=True, max_iter=1000000,\n",
       "      normalize=False, random_state=None, solver='auto', tol=0.001)"
      ]
     },
     "execution_count": 72,
     "metadata": {},
     "output_type": "execute_result"
    }
   ],
   "source": [
    "#Ridge regression penalyzes model with bias propotional to sum of squares of weihts L2\n",
    "ridge=linear_model.Ridge(alpha=0.8,max_iter=1000000)\n",
    "ridge.fit(X_train_filtered,Y_train)"
   ]
  },
  {
   "cell_type": "code",
   "execution_count": 95,
   "metadata": {},
   "outputs": [
    {
     "name": "stdout",
     "output_type": "stream",
     "text": [
      "MSE ridge train: 0.016127335916395535\n",
      "MSE ridge test: 0.987849520725775\n"
     ]
    }
   ],
   "source": [
    "ridge_pred=ridge.predict(X_train_filtered)\n",
    "ridge_pred_test=ridge.predict(X_test_filtered)\n",
    "\n",
    "print('MSE ridge train:',mean_squared_error(Y_train,ridge_pred))\n",
    "print('MSE ridge test:',mean_squared_error(Y_test,ridge_pred_test))"
   ]
  },
  {
   "cell_type": "code",
   "execution_count": 99,
   "metadata": {},
   "outputs": [
    {
     "name": "stdout",
     "output_type": "stream",
     "text": [
      "-2.114622424644933\n"
     ]
    }
   ],
   "source": [
    "score_ridge=cross_val_score(ridge, X_test_filtered, Y_test, scoring='neg_mean_squared_error', cv=5)\n",
    "print(np.mean(score_ridge)) #Still overfitting"
   ]
  }
 ],
 "metadata": {
  "kernelspec": {
   "display_name": "Python 3",
   "language": "python",
   "name": "python3"
  },
  "language_info": {
   "codemirror_mode": {
    "name": "ipython",
    "version": 3
   },
   "file_extension": ".py",
   "mimetype": "text/x-python",
   "name": "python",
   "nbconvert_exporter": "python",
   "pygments_lexer": "ipython3",
   "version": "3.7.6"
  }
 },
 "nbformat": 4,
 "nbformat_minor": 4
}
