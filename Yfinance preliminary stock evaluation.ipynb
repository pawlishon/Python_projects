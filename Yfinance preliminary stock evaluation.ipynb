{
 "cells": [
  {
   "cell_type": "code",
   "execution_count": null,
   "metadata": {},
   "outputs": [],
   "source": [
    "#https://algotrading101.com/learn/yahoo-finance-api-guide/\n",
    "import yfinance as yf\n",
    "import yahoo_fin.stock_info as si\n",
    "import pandas as pd\n",
    "comp_ticker = yf.Ticker(\"EPD\")\n",
    "print(comp_ticker.info)"
   ]
  },
  {
   "cell_type": "code",
   "execution_count": null,
   "metadata": {},
   "outputs": [],
   "source": [
    "def my_valuation(ticker):\n",
    "#Quote table\n",
    "    key_attributes_quote=['PE Ratio (TTM)','Beta (5Y Monthly)','1y Target Est','EPS (TTM)','Previous Close','Market Cap']\n",
    "    quote=si.get_quote_table(ticker)\n",
    "    attr_results=[]\n",
    "    for attribute in key_attributes_quote:\n",
    "        attr_results.append(quote[attribute])\n",
    "    attr_results_df=pd.DataFrame([attr_results],columns=key_attributes_quote)\n",
    "    attr_results_df['Ticker']=ticker\n",
    "    \n",
    "#Stats table\n",
    "    stats_table=si.get_stats(ticker)\n",
    "    stats_table=stats_table.iloc[[22,24,46,47,48],:].transpose()\n",
    "    stats_table.columns=stats_table.iloc[0,:]\n",
    "    stats_table=stats_table.iloc[1,:]\n",
    "    stats_table=pd.DataFrame(stats_table)\n",
    "    stats_table=stats_table.transpose().reset_index(drop=True)\n",
    "#join\n",
    "    horizontal_stack = pd.concat([stats_table, attr_results_df], axis=1)\n",
    "    \n",
    "    return horizontal_stack"
   ]
  },
  {
   "cell_type": "code",
   "execution_count": null,
   "metadata": {},
   "outputs": [],
   "source": [
    "instrument_results=my_valuation('EPD')"
   ]
  },
  {
   "cell_type": "code",
   "execution_count": null,
   "metadata": {},
   "outputs": [],
   "source": [
    "dow_list = si.tickers_dow()\n",
    "for ticker in dow_list:\n",
    "    temp=my_valuation(ticker)\n",
    "    instrument_results=pd.concat([instrument_results,temp],axis=0)"
   ]
  },
  {
   "cell_type": "code",
   "execution_count": null,
   "metadata": {},
   "outputs": [],
   "source": [
    "instrument_results.to_csv('dow_results.csv',index=False)"
   ]
  }
 ],
 "metadata": {
  "kernelspec": {
   "display_name": "Python 3",
   "language": "python",
   "name": "python3"
  },
  "language_info": {
   "codemirror_mode": {
    "name": "ipython",
    "version": 3
   },
   "file_extension": ".py",
   "mimetype": "text/x-python",
   "name": "python",
   "nbconvert_exporter": "python",
   "pygments_lexer": "ipython3",
   "version": "3.6.5"
  }
 },
 "nbformat": 4,
 "nbformat_minor": 2
}
