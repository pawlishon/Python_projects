{
 "cells": [
  {
   "cell_type": "code",
   "execution_count": 30,
   "metadata": {},
   "outputs": [],
   "source": [
    "#https://algotrading101.com/learn/yahoo-finance-api-guide/\n",
    "import yfinance as yf\n",
    "import yahoo_fin.stock_info as si\n",
    "import pandas as pd\n",
    "comp_ticker = yf.Ticker(\"EPD\")\n"
   ]
  },
  {
   "cell_type": "code",
   "execution_count": 24,
   "metadata": {},
   "outputs": [],
   "source": [
    "def my_valuation(ticker):\n",
    "#Quote table\n",
    "    key_attributes_quote=['PE Ratio (TTM)','Beta (5Y Monthly)','1y Target Est','EPS (TTM)','Previous Close','Market Cap']\n",
    "    quote=si.get_quote_table(ticker)\n",
    "    attr_results=[]\n",
    "    for attribute in key_attributes_quote:\n",
    "        attr_results.append(quote[attribute])\n",
    "    attr_results_df=pd.DataFrame([attr_results],columns=key_attributes_quote)\n",
    "    attr_results_df['Ticker']=ticker\n",
    "    \n",
    "#Stats table\n",
    "    stats_table=si.get_stats(ticker)\n",
    "    stats_table=stats_table.iloc[[22,24,46,47,48],:].transpose()\n",
    "    stats_table.columns=stats_table.iloc[0,:]\n",
    "    stats_table=stats_table.iloc[1,:]\n",
    "    stats_table=pd.DataFrame(stats_table)\n",
    "    stats_table=stats_table.transpose().reset_index(drop=True)\n",
    "    \n",
    "#Analysts recommendation\n",
    "    lhs_url = 'https://query2.finance.yahoo.com/v10/finance/quoteSummary/'\n",
    "    rhs_url = '?formatted=true&crumb=swg7qs5y9UP&lang=en-US&region=US&' \\\n",
    "              'modules=upgradeDowngradeHistory,recommendationTrend,' \\\n",
    "              'financialData,earningsHistory,earningsTrend,industryTrend&' \\\n",
    "              'corsDomain=finance.yahoo.com'\n",
    "              \n",
    "    url =  lhs_url + ticker + rhs_url\n",
    "    r = requests.get(url)\n",
    "    if not r.ok:\n",
    "        recommendation = 6\n",
    "    try:\n",
    "        result = r.json()['quoteSummary']['result'][0]\n",
    "        recommendation =result['financialData']['recommendationMean']['fmt']\n",
    "    except:\n",
    "        recommendation = 6\n",
    "    stats_table['Recommendation']=recommendation\n",
    "    \n",
    "#Adding business summary\n",
    "    comp_ticker=yf.Ticker(ticker)\n",
    "    stats_table['Company Summary']=comp_ticker.info['longBusinessSummary']\n",
    "    \n",
    "#join\n",
    "    horizontal_stack = pd.concat([stats_table, attr_results_df], axis=1)\n",
    "\n",
    "#Changing columns order\n",
    "    cols=horizontal_stack.columns.tolist()\n",
    "    cols = cols[-1:] + cols[:-1]\n",
    "    horizontal_stack=horizontal_stack[cols]\n",
    "    return horizontal_stack"
   ]
  },
  {
   "cell_type": "code",
   "execution_count": 28,
   "metadata": {},
   "outputs": [],
   "source": [
    "#dow_list = si.tickers_dow()\n",
    "my_list=['ADM','MDLZ','HUN','NEM','CVS','TSN']\n",
    "for ticker in my_list:\n",
    "    temp=my_valuation(ticker)\n",
    "    instrument_results=pd.concat([instrument_results,temp],axis=0)"
   ]
  },
  {
   "cell_type": "code",
   "execution_count": 29,
   "metadata": {},
   "outputs": [],
   "source": [
    "instrument_results.to_csv('dow_results.csv',index=False)"
   ]
  }
 ],
 "metadata": {
  "kernelspec": {
   "display_name": "Python 3",
   "language": "python",
   "name": "python3"
  }
 },
 "nbformat": 4,
 "nbformat_minor": 2
}
