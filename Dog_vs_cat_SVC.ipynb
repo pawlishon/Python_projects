{
 "cells": [
  {
   "cell_type": "code",
   "execution_count": 1,
   "metadata": {},
   "outputs": [],
   "source": [
    "import numpy as np\n",
    "import sklearn as sk\n",
    "import os\n",
    "from PIL import Image\n",
    "from PIL import ImageFilter\n",
    "from sklearn.svm import SVC"
   ]
  },
  {
   "cell_type": "code",
   "execution_count": 61,
   "metadata": {},
   "outputs": [
    {
     "data": {
      "text/plain": [
       "'C:\\\\Users\\\\U6080396\\\\Downloads\\\\dogs-vs-cats'"
      ]
     },
     "execution_count": 61,
     "metadata": {},
     "output_type": "execute_result"
    }
   ],
   "source": [
    "os.chdir(\"C:\\\\Users\\\\U6080396\\\\Downloads\\\\dogs-vs-cats\")\n",
    "os.getcwd()"
   ]
  },
  {
   "cell_type": "code",
   "execution_count": 50,
   "metadata": {},
   "outputs": [],
   "source": [
    "# data from https://www.kaggle.com/c/dogs-vs-cats/overview\n",
    "train=[i for i in os.listdir('train')]\n",
    "\n",
    "test=[i for i in os.listdir('C:\\\\Users\\\\U6080396\\\\Downloads\\\\dogs-vs-cats\\\\test1')]"
   ]
  },
  {
   "cell_type": "code",
   "execution_count": 25,
   "metadata": {},
   "outputs": [],
   "source": [
    "labels=[]\n",
    "for i in train:\n",
    "    if 'dog' in i:\n",
    "        labels.append(1)\n",
    "    else:\n",
    "        labels.append(0)"
   ]
  },
  {
   "cell_type": "code",
   "execution_count": 9,
   "metadata": {},
   "outputs": [],
   "source": [
    "features=[]\n",
    "pixel_value=0"
   ]
  },
  {
   "cell_type": "code",
   "execution_count": 10,
   "metadata": {},
   "outputs": [],
   "source": [
    "model1=SVC()"
   ]
  },
  {
   "cell_type": "code",
   "execution_count": 11,
   "metadata": {},
   "outputs": [],
   "source": [
    "for i in train:\n",
    "    im=Image.open('train/'+i).convert('L')\n",
    "    size=(64,64)\n",
    "    im=im.resize(size, Image.ANTIALIAS)\n",
    "    im=im.filter(ImageFilter.FIND_EDGES)\n",
    "    pixel_value=im.histogram()\n",
    "    features.append(pixel_value)"
   ]
  },
  {
   "cell_type": "code",
   "execution_count": 12,
   "metadata": {},
   "outputs": [
    {
     "data": {
      "text/plain": [
       "SVC(C=1.0, break_ties=False, cache_size=200, class_weight=None, coef0=0.0,\n",
       "    decision_function_shape='ovr', degree=3, gamma='scale', kernel='rbf',\n",
       "    max_iter=-1, probability=False, random_state=None, shrinking=True,\n",
       "    tol=0.001, verbose=False)"
      ]
     },
     "execution_count": 12,
     "metadata": {},
     "output_type": "execute_result"
    }
   ],
   "source": [
    "model1.fit(features, labels)\n"
   ]
  },
  {
   "cell_type": "code",
   "execution_count": 35,
   "metadata": {},
   "outputs": [],
   "source": [
    "total=0\n",
    "results=[]\n",
    "\n",
    "for i in train[:100]:\n",
    "    im=Image.open('train/'+i).convert('L')\n",
    "    size=(64,64)\n",
    "    im=im.resize(size, Image.ANTIALIAS)\n",
    "    im=im.filter(ImageFilter.FIND_EDGES)\n",
    "    pixel_test=im.histogram()\n",
    "    prediction=model1.predict([pixel_test])\n",
    "    results.append(prediction[0])"
   ]
  },
  {
   "cell_type": "code",
   "execution_count": 43,
   "metadata": {},
   "outputs": [
    {
     "data": {
      "text/plain": [
       "59"
      ]
     },
     "execution_count": 43,
     "metadata": {},
     "output_type": "execute_result"
    }
   ],
   "source": [
    "total=np.sum(np.logical_not(np.logical_xor(labels[0:100],results)))\n",
    "\n",
    "total"
   ]
  },
  {
   "cell_type": "code",
   "execution_count": 57,
   "metadata": {},
   "outputs": [],
   "source": [
    "#Unlabelled pictures\n",
    "results_unlabelled=[]\n",
    "for i in test[:10]:\n",
    "    im=Image.open('test1/'+i).convert('L')\n",
    "    size=(64,64)\n",
    "    im=im.resize(size, Image.ANTIALIAS)\n",
    "    im=im.filter(ImageFilter.FIND_EDGES)\n",
    "    pixel_test=im.histogram()\n",
    "    prediction=model1.predict([pixel_test])\n",
    "    results_unlabelled.append(prediction[0])"
   ]
  },
  {
   "cell_type": "code",
   "execution_count": 58,
   "metadata": {},
   "outputs": [
    {
     "name": "stdout",
     "output_type": "stream",
     "text": [
      "[1, 0, 0, 1, 1, 1, 0, 1, 1, 0]\n"
     ]
    }
   ],
   "source": [
    "print(results_unlabelled)"
   ]
  },
  {
   "cell_type": "code",
   "execution_count": 81,
   "metadata": {},
   "outputs": [
    {
     "data": {
      "text/plain": [
       "[0, 0, 0, 0, 0, 1, 0, 0, 1, 0, 0]"
      ]
     },
     "execution_count": 81,
     "metadata": {},
     "output_type": "execute_result"
    }
   ],
   "source": [
    "#My Images\n",
    "MyPics=[i for i in os.listdir('MyPics')]\n",
    "my_results=[]\n",
    "for i in MyPics:\n",
    "    im=Image.open('MyPics/'+i).convert('L')\n",
    "    size=(64,64)\n",
    "    im=im.resize(size, Image.ANTIALIAS)\n",
    "    im=im.filter(ImageFilter.FIND_EDGES)\n",
    "    pixel_test=im.histogram()\n",
    "    prediction=model1.predict([pixel_test])\n",
    "    my_results.append(prediction[0])\n",
    "    \n",
    "my_results"
   ]
  },
  {
   "cell_type": "code",
   "execution_count": null,
   "metadata": {},
   "outputs": [],
   "source": [
    "#Trying different kernels\n",
    "model2=SVC(kernel='linear')\n",
    "model2.fit(features,labels)"
   ]
  },
  {
   "cell_type": "code",
   "execution_count": 72,
   "metadata": {},
   "outputs": [],
   "source": [
    "# choosing randomly near 50/50 100 images\n",
    "random=[i for i in os.listdir('random')]\n",
    "labels2=[]\n",
    "for i in random:\n",
    "    if 'dog' in i:\n",
    "        labels2.append(1)\n",
    "    else:\n",
    "        labels2.append(0)"
   ]
  },
  {
   "cell_type": "code",
   "execution_count": null,
   "metadata": {},
   "outputs": [],
   "source": [
    "total=0\n",
    "results=[]\n",
    "\n",
    "for i in random:\n",
    "    im=Image.open('random/'+i).convert('L')\n",
    "    size=(64,64)\n",
    "    im=im.resize(size, Image.ANTIALIAS)\n",
    "    im=im.filter(ImageFilter.FIND_EDGES)\n",
    "    pixel_test=im.histogram()\n",
    "    prediction=model2.predict([pixel_test])\n",
    "    results.append(prediction[0])"
   ]
  },
  {
   "cell_type": "code",
   "execution_count": null,
   "metadata": {},
   "outputs": [],
   "source": [
    "total=np.sum(np.logical_not(np.logical_xor(labels2,results)))\n",
    "print(total)\n",
    "\n",
    "#Linear 59\n",
    "#Polynomial 57\n",
    "#rbf 55\n",
    "#sigmoid 51"
   ]
  }
 ],
 "metadata": {
  "kernelspec": {
   "display_name": "Python 3",
   "language": "python",
   "name": "python3"
  },
  "language_info": {
   "codemirror_mode": {
    "name": "ipython",
    "version": 3
   },
   "file_extension": ".py",
   "mimetype": "text/x-python",
   "name": "python",
   "nbconvert_exporter": "python",
   "pygments_lexer": "ipython3",
   "version": "3.7.6"
  }
 },
 "nbformat": 4,
 "nbformat_minor": 4
}
