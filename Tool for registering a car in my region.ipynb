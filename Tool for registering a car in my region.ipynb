{
 "cells": [
  {
   "cell_type": "code",
   "execution_count": 10,
   "metadata": {},
   "outputs": [],
   "source": [
    "import selenium\n",
    "from selenium import webdriver\n",
    "url='https://komunikacja.powiat-olsztynski.pl/pol/queues/2/6'\n",
    "driver = webdriver.Chrome('C:/Users/U6080396/chromedriver.exe')\n",
    "driver.get(url)"
   ]
  },
  {
   "cell_type": "code",
   "execution_count": 11,
   "metadata": {},
   "outputs": [],
   "source": [
    "import winsound\n",
    "frequency = 2500  # Set Frequency To 2500 Hertz\n",
    "duration = 10000\n",
    "import time\n",
    "i=0"
   ]
  },
  {
   "cell_type": "code",
   "execution_count": 13,
   "metadata": {},
   "outputs": [],
   "source": [
    "while i<300:\n",
    "    driver.get(url)\n",
    "    next_month=driver.find_element_by_xpath('/html/body/div[2]/div[1]/div/div/div[2]/div[1]/div/div/table/tbody/tr[1]/th[3]/div/span')\n",
    "    next_month.click()\n",
    "    new_day=driver.find_element_by_xpath('/html/body/div[2]/div[1]/div/div/div[2]/div[1]/div/div/table/tbody/tr[4]/td[2]/div')\n",
    "    day1=new_day.get_attribute(\"class\")\n",
    "    previous_day=driver.find_element_by_xpath('/html/body/div[2]/div[1]/div/div/div[2]/div[1]/div/div/table/tbody/tr[4]/td[1]/div')\n",
    "    day2=previous_day.get_attribute(\"class\")\n",
    "    if day1=='day good':\n",
    "        winsound.Beep(frequency, duration)\n",
    "        driver2 = webdriver.Chrome('C:/Users/U6080396/chromedriver.exe')\n",
    "        driver2.get('https://www.youtube.com/watch?v=hT_nvWreIhg')\n",
    "        i=i+300\n",
    "    i=i+1\n",
    "    time.sleep(60)"
   ]
  },
  {
   "cell_type": "code",
   "execution_count": 10,
   "metadata": {},
   "outputs": [],
   "source": []
  }
 ],
 "metadata": {
  "kernelspec": {
   "display_name": "Python 3",
   "language": "python",
   "name": "python3"
  },
  "language_info": {
   "codemirror_mode": {
    "name": "ipython",
    "version": 3
   },
   "file_extension": ".py",
   "mimetype": "text/x-python",
   "name": "python",
   "nbconvert_exporter": "python",
   "pygments_lexer": "ipython3",
   "version": "3.6.5"
  }
 },
 "nbformat": 4,
 "nbformat_minor": 2
}
